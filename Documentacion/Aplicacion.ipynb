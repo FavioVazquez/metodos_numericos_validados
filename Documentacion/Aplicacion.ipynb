{
 "cells": [
  {
   "cell_type": "markdown",
   "metadata": {
    "slideshow": {
     "slide_type": "slide"
    }
   },
   "source": [
    "# Aplicaciones\n",
    "\n",
    "Los métodos numéricos validados tienen diversas aplicaciones, en teoría se podría escribir código en términos de artimética de intervalos para la mayoría, sino todos, de los actuales códigos numéricos. Se han creado librerías y paquetes en la mayoría de los lenguajes más importantes, los cuales están disponibles para su uso junto con una documentación detallada (en algunos casos)."
   ]
  },
  {
   "cell_type": "markdown",
   "metadata": {
    "slideshow": {
     "slide_type": "slide"
    }
   },
   "source": [
    "Se han utilizado métodos numéricos validados para resolver y mejorar la solución a muchos problemas matemáticos, físicos y computacionales. Entre ellos:\n",
    "\n",
    "- Verificación de la existencia del atractor de Lorenz\n",
    "- Verificación de la existencia del caos\n",
    "- Optimización global\n",
    "- Estrategias precisas para las fronteras KAM y su implementación\n",
    "- Encontrar eigenfrecuencias de turbinas\n",
    "- Soluciones a problemas complicados con sistemas dinámicos"
   ]
  },
  {
   "cell_type": "markdown",
   "metadata": {
    "slideshow": {
     "slide_type": "slide"
    }
   },
   "source": [
    "En física se han utilizado para encontrar órbitas periódicas en sistemas dinámicos, integración y evolución de ecuaciones diferenciales ordinarias en sistemas hamiltonianos, entre muchos otros.\n",
    "\n",
    "Hay un problema común que se encuentra en muchas aplicaciones físicas, y es encontrar raíces de funciones en un intervalo dado. Como hemos demostrado, estos métodos validados permiten encontrar estas raíces rigurosamente, garantizando que no \"perderemos\" ningún cero en un intervalo dado, y que nos diga también rigurosamente si hay un único cero en una región dada, lamentablemente aún no se logra un algoritmo que pueda asegurar la unicidad de los ceros para cualquier función. "
   ]
  },
  {
   "cell_type": "markdown",
   "metadata": {
    "slideshow": {
     "slide_type": "slide"
    }
   },
   "source": [
    "A continuación les mostraré un código que he desarrollado para encontrar raíces a funciones de una variable (actualmente la librería solo trabaja para funciones de una variable) utilizando métodos numéricos validados."
   ]
  },
  {
   "cell_type": "markdown",
   "metadata": {
    "slideshow": {
     "slide_type": "slide"
    }
   },
   "source": [
    "## Función `roots_interval`"
   ]
  },
  {
   "cell_type": "markdown",
   "metadata": {
    "slideshow": {
     "slide_type": "slide"
    }
   },
   "source": [
    "### Breve digresión matemática\n",
    "\n",
    "La función `roots_interval` utiliza el método de Newton de intervalos que vimos anteriormente. Hay que probar la existencia y unicidad de las raíces en el método de Newton de intervalos, así como su estabilidad para que pueda considerarse un método numérico valido y serio. Esto fue hecho por los que plantearon este algoritmo originalmente y algunos otros matemáticos, pueden encontrarse en el libro de Ramon Moore y algunos artículos de Warwick Tucker."
   ]
  },
  {
   "cell_type": "markdown",
   "metadata": {
    "slideshow": {
     "slide_type": "slide"
    }
   },
   "source": [
    "En resumen, se utilizan teoremas de punto fijo para probar la existencia y unicidad. En caso del algoritmo de intervalos de Newton, la existencia está dada por el teorema de punto fijo de Brouwer que nos dice si un conjunto $B$ es homeomorfo a la bola cerrada unitaria en $\\mathbb{R}^n$, entonces dado un mapeo continuo $f: B \\rightarrow B$ entonces $\\exists x \\in B$ tal que $f(x) = x$. Esto aplica a la última parte del método de Newton para intervalos, en el operado de Newton $\\mathcal{N}$ para verificar la existencia de la raíz. La unicidad viene de que $f'\\ne 0$ utilizando los teoremas de Schauder y Banach."
   ]
  },
  {
   "cell_type": "markdown",
   "metadata": {
    "slideshow": {
     "slide_type": "subslide"
    }
   },
   "source": [
    "Antes de mostrarle la función y los resultados que obtuvieron, primero veamos algunos ejemplos de funciones polinomiales importantes, que pueden obtenerse utilizando las librerías `Polynomials.jl` y `Jacobi.jl`."
   ]
  },
  {
   "cell_type": "code",
   "execution_count": null,
   "metadata": {
    "collapsed": false,
    "slideshow": {
     "slide_type": "subslide"
    }
   },
   "outputs": [],
   "source": [
    "using ValidatedNumerics, Polynomials, Jacobi, PyPlot, PyCall\n",
    "@pyimport matplotlib.patches as patches"
   ]
  },
  {
   "cell_type": "markdown",
   "metadata": {
    "slideshow": {
     "slide_type": "subslide"
    }
   },
   "source": [
    "### Librería `Polynomials.jl`\n",
    "\n",
    "Esta librería permite evaluar los polinomios en algún valor dado, diferenciar polimonios, integrarlos, usar las operaciones básicas con ellos, y también encontrar raíces. Ahora encuentra raíces utilizando métodos normales, es decir sin aritmética de intervalos."
   ]
  },
  {
   "cell_type": "code",
   "execution_count": null,
   "metadata": {
    "collapsed": false,
    "slideshow": {
     "slide_type": "subslide"
    }
   },
   "outputs": [],
   "source": [
    "# Construir polinomio 1 + 2x\n",
    "Poly([1,2])"
   ]
  },
  {
   "cell_type": "code",
   "execution_count": null,
   "metadata": {
    "collapsed": false,
    "slideshow": {
     "slide_type": "subslide"
    }
   },
   "outputs": [],
   "source": [
    "# Construir polinomio 1 + 2x + 10x^2 + 22x^3 + 4x^4\n",
    "Poly([1,2,10,22,4])"
   ]
  },
  {
   "cell_type": "code",
   "execution_count": null,
   "metadata": {
    "collapsed": false,
    "slideshow": {
     "slide_type": "subslide"
    }
   },
   "outputs": [],
   "source": [
    "# Puedo escoger la variable\n",
    "Poly([1,2,10,22,4], :y)"
   ]
  },
  {
   "cell_type": "code",
   "execution_count": null,
   "metadata": {
    "collapsed": false,
    "slideshow": {
     "slide_type": "subslide"
    }
   },
   "outputs": [],
   "source": [
    "# Construir polinomio con sus raíces\n",
    "# Lo siguiente representa (x-1)*(x-2)*(x-3)\n",
    "\n",
    "poly([1,2,3])"
   ]
  },
  {
   "cell_type": "markdown",
   "metadata": {
    "slideshow": {
     "slide_type": "slide"
    }
   },
   "source": [
    "### Librería `Jacobi.jl`\n",
    "\n",
    "Esta librería permite hacer operaciones y trabajar con los polinomios de orden $n$ de Jacobi, Legendre y los polinomios de Chebyshev de primero y segundo tipo; así como evaluarlos y obtener sus raíces (de nuevo con métodos usuales). Además utilizando la librería `Polynomials.jl` permite obtener expresiones para todos estos polinomios. "
   ]
  },
  {
   "cell_type": "code",
   "execution_count": null,
   "metadata": {
    "collapsed": false,
    "slideshow": {
     "slide_type": "subslide"
    }
   },
   "outputs": [],
   "source": [
    "poly_legendre(4)"
   ]
  },
  {
   "cell_type": "code",
   "execution_count": null,
   "metadata": {
    "collapsed": false,
    "slideshow": {
     "slide_type": "subslide"
    }
   },
   "outputs": [],
   "source": [
    "poly_chebyshev(3)"
   ]
  },
  {
   "cell_type": "code",
   "execution_count": null,
   "metadata": {
    "collapsed": false,
    "slideshow": {
     "slide_type": "subslide"
    }
   },
   "outputs": [],
   "source": [
    "poly_legendre(20)"
   ]
  },
  {
   "cell_type": "code",
   "execution_count": null,
   "metadata": {
    "collapsed": false,
    "slideshow": {
     "slide_type": "subslide"
    }
   },
   "outputs": [],
   "source": [
    "poly_chebyshev(24)"
   ]
  },
  {
   "cell_type": "markdown",
   "metadata": {
    "slideshow": {
     "slide_type": "slide"
    }
   },
   "source": [
    "#### Graficando los polinomios de Legendre\n",
    "\n",
    "Utilizando esta librería podemos graficar de una manera muy simple cualquiera de los polinomios que define. Hagamos un ejemplo, y grafiquemos los polimonios de legendre desde el primer al sexto orden."
   ]
  },
  {
   "cell_type": "code",
   "execution_count": null,
   "metadata": {
    "collapsed": false,
    "slideshow": {
     "slide_type": "slide"
    }
   },
   "outputs": [],
   "source": [
    "x = linspace(-1.0,1.0,401)\n",
    "y1 = legendre(x,1)\n",
    "y2 = legendre(x,2)\n",
    "y3 = legendre(x,3)\n",
    "y4 = legendre(x,4)\n",
    "y5 = legendre(x,5)\n",
    "y6 = legendre(x,6)\n",
    "plot(x,y1,x,y2,x,y3,x,y4,x,y5,x,y6)\n",
    "axhline(y=0.0, color=\"black\")"
   ]
  },
  {
   "cell_type": "markdown",
   "metadata": {
    "slideshow": {
     "slide_type": "slide"
    }
   },
   "source": [
    "### \"La función\"\n",
    "\n",
    "La función `roots_interval` que he creado recibe una función de una variable, un límite inferior y uno superior para definir \n",
    "el intervalo donde buscará los ceros. La función se le pasa como una función anónima (lambda function). Por adentro utiliza dos funciones de la librería ValidatedNumerics, uno es la ya vista `newton` que permite encontrar ceros para una función dada, y además utiliza la función `find_roots_midpoint` que ubica el punto medio del intervalo y da un valor concreto para el cero. Luego utilizando `PyPlot` grafica la función y sus ceros. "
   ]
  },
  {
   "cell_type": "markdown",
   "metadata": {
    "slideshow": {
     "slide_type": "subslide"
    }
   },
   "source": [
    "El cero que muestra la gráfica es el valor concreto del punto medio del invervalo donde se encuentra el cero, pero debe recordarse que se están utilizando métodos numéricos validados y por lo tanto nos interesa es el intervalo donde se encuentra el cero, ya que está garantizado que adentro del mismo está el cero real. La función también imprime el intervalo donde están los ceros."
   ]
  },
  {
   "cell_type": "code",
   "execution_count": null,
   "metadata": {
    "collapsed": false,
    "slideshow": {
     "slide_type": "slide"
    }
   },
   "outputs": [],
   "source": [
    "function roots_interval(fun,infBound,supBound; \n",
    "    steps=Int((supBound-infBound)*100),lineColor=\"b\",zerosColor=\"rs\")\n",
    "    try\n",
    "        x = linspace(infBound,supBound,steps)\n",
    "        result = fun(x)\n",
    "        ro = newton(fun,@interval(infBound,supBound))\n",
    "        z = find_roots_midpoint(fun,infBound,supBound)[1]\n",
    "        plot(x,result,lineColor)\n",
    "        plot(z,zeros(z),zerosColor)\n",
    "        axhline(y=0.0, color=\"black\")\n",
    "        ro\n",
    "    catch err\n",
    "        if isa(err,BoundsError)\n",
    "            print(\"There are no zeros in the interval \",\"[\",infBound,\",\",supBound,\"]\")\n",
    "        elseif isa(err,UndefVarError)\n",
    "            print(\"Function is not correctly written. Check you variable.\")\n",
    "        elseif isa(err,MethodError)\n",
    "            print(\"Function is not correctly written. Check your methods.\")\n",
    "        end\n",
    "    end\n",
    "end"
   ]
  },
  {
   "cell_type": "markdown",
   "metadata": {
    "slideshow": {
     "slide_type": "slide"
    }
   },
   "source": [
    "## Resultados "
   ]
  },
  {
   "cell_type": "markdown",
   "metadata": {
    "slideshow": {
     "slide_type": "slide"
    }
   },
   "source": [
    "Ejemplo simple, ceros del polinomio de Legendre de cuarto orden\n",
    "\n",
    "$$\n",
    "P_4(x) = \\frac{1}{8}(35x^4 - 30x^2 + 3) \n",
    "$$"
   ]
  },
  {
   "cell_type": "code",
   "execution_count": null,
   "metadata": {
    "collapsed": false,
    "slideshow": {
     "slide_type": "subslide"
    }
   },
   "outputs": [],
   "source": [
    "# Obtención del polimonio con Jacobi.jl\n",
    "\n",
    "poly_legendre(4)"
   ]
  },
  {
   "cell_type": "code",
   "execution_count": null,
   "metadata": {
    "collapsed": false,
    "slideshow": {
     "slide_type": "subslide"
    }
   },
   "outputs": [],
   "source": [
    "roots_interval(x -> 0.375 - 3.75x.^2 + 4.375x.^4,-1,1)"
   ]
  },
  {
   "cell_type": "markdown",
   "metadata": {
    "slideshow": {
     "slide_type": "slide"
    }
   },
   "source": [
    "La función valida que la función que se le ingresa esté bien escrita, y también le dice al usuario si no existen ceros en el intervalo que se le está pasando. "
   ]
  },
  {
   "cell_type": "code",
   "execution_count": null,
   "metadata": {
    "collapsed": false,
    "slideshow": {
     "slide_type": "fragment"
    }
   },
   "outputs": [],
   "source": [
    "roots_interval(x -> cos(x) + x.^4,-1,1)"
   ]
  },
  {
   "cell_type": "code",
   "execution_count": null,
   "metadata": {
    "collapsed": false,
    "slideshow": {
     "slide_type": "fragment"
    }
   },
   "outputs": [],
   "source": [
    "plot(x,cos(x) + x.^4,-1,1)"
   ]
  },
  {
   "cell_type": "markdown",
   "metadata": {
    "slideshow": {
     "slide_type": "slide"
    }
   },
   "source": [
    "### Algunos casos más complicados"
   ]
  },
  {
   "cell_type": "code",
   "execution_count": null,
   "metadata": {
    "collapsed": false,
    "slideshow": {
     "slide_type": "subslide"
    }
   },
   "outputs": [],
   "source": [
    "roots_interval(x -> sin(2x) + cos(3x),-5,5)"
   ]
  },
  {
   "cell_type": "code",
   "execution_count": null,
   "metadata": {
    "collapsed": false,
    "slideshow": {
     "slide_type": "subslide"
    }
   },
   "outputs": [],
   "source": [
    "roots_interval(x -> x.^7 - 28x.^6 + 322x.^5\n",
    "- 1960x.^4+6769x.^3-13132x.^2+13068x -5040,-5,10)"
   ]
  },
  {
   "cell_type": "markdown",
   "metadata": {
    "slideshow": {
     "slide_type": "slide"
    }
   },
   "source": [
    "## Función `roots_interval_rectangle`\n",
    "\n",
    "Aunque hemos graficado el punto medio del intervalo, que nos da la raíz a una alta precisión, sería interesante poder graficar la función y los intervalos donde se encuentra la raíz, en vez de el punto medio de los mismos. Tomando en consideración esto, nace la función `roots_interval_rectangle` que permite hacer lo mismo que la función `roots_interval` pero grafica el intervalo donde se encuentra la raíz y no el punto intermedio donde está. "
   ]
  },
  {
   "cell_type": "code",
   "execution_count": null,
   "metadata": {
    "collapsed": false,
    "slideshow": {
     "slide_type": "subslide"
    }
   },
   "outputs": [],
   "source": [
    "function draw_rectangle(x, y, xwidth, yheight, color=\"green\")\n",
    "    rectangle = patches.Rectangle\n",
    "    ax = gca()\n",
    "    ax[:add_patch](rectangle((x, y), xwidth, yheight, facecolor=color, alpha=0.5))\n",
    "end"
   ]
  },
  {
   "cell_type": "code",
   "execution_count": null,
   "metadata": {
    "collapsed": false,
    "slideshow": {
     "slide_type": "subslide"
    }
   },
   "outputs": [],
   "source": [
    "function roots_interval_rectangle(fun,infBound,supBound; \n",
    "    steps=Int((supBound-infBound)*100),lineColor=\"b\",zerosColor=\"rs\")\n",
    "    try\n",
    "        z = linspace(infBound,supBound,steps)\n",
    "        result = fun(z)\n",
    "        ro = newton(fun,@interval(infBound,supBound))\n",
    "        roots = map(i -> (i.interval.lo,i.interval.hi),ro)\n",
    "        for r in roots\n",
    "            xwidth = fun(r[1])+0.07\n",
    "            x = r[1]-xwidth/2\n",
    "            y = - abs(fun(x))\n",
    "            yheight = abs(y)*1.8\n",
    "            draw_rectangle(x,y,xwidth,yheight)\n",
    "        end\n",
    "        plot(z,result,lineColor)\n",
    "        axhline(y=0.0, color=\"black\")\n",
    "        ro\n",
    "    catch err\n",
    "        if isa(err,BoundsError)\n",
    "            print(\"There are no zeros in the interval \",\"[\",infBound,\",\",supBound,\"]\")\n",
    "        elseif isa(err,UndefVarError)\n",
    "            print(\"Function is not correctly written. Check you variable.\")\n",
    "        elseif isa(err,MethodError)\n",
    "            print(\"Function is not correctly written. Check your methods.\")\n",
    "        end\n",
    "    end\n",
    "end"
   ]
  },
  {
   "cell_type": "code",
   "execution_count": null,
   "metadata": {
    "collapsed": false,
    "slideshow": {
     "slide_type": "subslide"
    }
   },
   "outputs": [],
   "source": [
    "roots_interval_rectangle(x -> 0.375 - 3.75x.^2 + 4.375x.^4,-1,1)"
   ]
  },
  {
   "cell_type": "markdown",
   "metadata": {
    "slideshow": {
     "slide_type": "slide"
    }
   },
   "source": [
    "## La parte más peligrosa de la charla\n",
    "\n",
    "¿Alguna función que quieran probar para encontrar sus raíces?\n",
    "\n",
    "$$\n",
    "\\Large{\\text{roots_interval}(x \\rightarrow ¿¿??,a,b)}\n",
    "$$"
   ]
  },
  {
   "cell_type": "code",
   "execution_count": null,
   "metadata": {
    "collapsed": false,
    "slideshow": {
     "slide_type": "fragment"
    }
   },
   "outputs": [],
   "source": [
    "roots_interval(x -> ?? ,a,b)"
   ]
  },
  {
   "cell_type": "markdown",
   "metadata": {
    "slideshow": {
     "slide_type": "slide"
    }
   },
   "source": [
    "<img src=\"../files/Imagenes/2.jpg\" height=\"800\" width=\"800\">"
   ]
  }
 ],
 "metadata": {
  "celltoolbar": "Slideshow",
  "kernelspec": {
   "display_name": "Julia 0.5.0-dev",
   "language": "julia",
   "name": "julia-0.5"
  },
  "language_info": {
   "file_extension": ".jl",
   "mimetype": "application/julia",
   "name": "julia",
   "version": "0.5.0"
  }
 },
 "nbformat": 4,
 "nbformat_minor": 0
}

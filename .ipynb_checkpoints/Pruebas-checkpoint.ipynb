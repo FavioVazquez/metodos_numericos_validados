{
 "cells": [
  {
   "cell_type": "code",
   "execution_count": 1,
   "metadata": {
    "collapsed": false
   },
   "outputs": [],
   "source": [
    "using ValidatedNumerics"
   ]
  },
  {
   "cell_type": "code",
   "execution_count": 2,
   "metadata": {
    "collapsed": false
   },
   "outputs": [
    {
     "data": {
      "text/plain": [
       "[1.0, 1.0]"
      ]
     },
     "execution_count": 2,
     "metadata": {},
     "output_type": "execute_result"
    }
   ],
   "source": [
    "a = @interval(1)"
   ]
  },
  {
   "cell_type": "code",
   "execution_count": 3,
   "metadata": {
    "collapsed": false
   },
   "outputs": [
    {
     "data": {
      "text/plain": [
       "ValidatedNumerics.Interval{Float64}"
      ]
     },
     "execution_count": 3,
     "metadata": {},
     "output_type": "execute_result"
    }
   ],
   "source": [
    "typeof(a)"
   ]
  },
  {
   "cell_type": "code",
   "execution_count": 7,
   "metadata": {
    "collapsed": false
   },
   "outputs": [
    {
     "data": {
      "text/plain": [
       "[1.0, 2.0]"
      ]
     },
     "execution_count": 7,
     "metadata": {},
     "output_type": "execute_result"
    }
   ],
   "source": [
    "b = @interval(1,2)"
   ]
  },
  {
   "cell_type": "code",
   "execution_count": 5,
   "metadata": {
    "collapsed": false
   },
   "outputs": [
    {
     "data": {
      "text/plain": [
       "[0.1, 0.3]"
      ]
     },
     "execution_count": 5,
     "metadata": {},
     "output_type": "execute_result"
    }
   ],
   "source": [
    "#Not recommended \n",
    "c = Interval(0.1,0.3)"
   ]
  },
  {
   "cell_type": "code",
   "execution_count": 12,
   "metadata": {
    "collapsed": false
   },
   "outputs": [
    {
     "data": {
      "text/plain": [
       "6.9999999999999996e-01"
      ]
     },
     "execution_count": 12,
     "metadata": {},
     "output_type": "execute_result"
    }
   ],
   "source": [
    "big(0.7)"
   ]
  },
  {
   "cell_type": "code",
   "execution_count": 6,
   "metadata": {
    "collapsed": false
   },
   "outputs": [
    {
     "data": {
      "text/plain": [
       "[0.09999999999999999, 0.30000000000000004]"
      ]
     },
     "execution_count": 6,
     "metadata": {},
     "output_type": "execute_result"
    }
   ],
   "source": [
    "#Recommended\n",
    "d = @interval(0.1,0.3)"
   ]
  },
  {
   "cell_type": "code",
   "execution_count": 7,
   "metadata": {
    "collapsed": false
   },
   "outputs": [
    {
     "data": {
      "text/plain": [
       "[1.0798999944880696, 1.07989999448807]"
      ]
     },
     "execution_count": 7,
     "metadata": {},
     "output_type": "execute_result"
    }
   ],
   "source": [
    "@interval sin(0.1) + cos(0.2)"
   ]
  },
  {
   "cell_type": "code",
   "execution_count": 8,
   "metadata": {
    "collapsed": false
   },
   "outputs": [
    {
     "data": {
      "text/plain": [
       "[1.0798999944880696, 1.07989999448807]"
      ]
     },
     "execution_count": 8,
     "metadata": {},
     "output_type": "execute_result"
    }
   ],
   "source": [
    "sin(@interval(0.1)) + cos(@interval(0.2))"
   ]
  },
  {
   "cell_type": "code",
   "execution_count": 14,
   "metadata": {
    "collapsed": false
   },
   "outputs": [
    {
     "data": {
      "text/plain": [
       "t (generic function with 1 method)"
      ]
     },
     "execution_count": 14,
     "metadata": {},
     "output_type": "execute_result"
    }
   ],
   "source": [
    "t(x) = 2x"
   ]
  },
  {
   "cell_type": "code",
   "execution_count": 15,
   "metadata": {
    "collapsed": false
   },
   "outputs": [
    {
     "data": {
      "text/plain": [
       "[0.19999999999999998, 0.2]"
      ]
     },
     "execution_count": 15,
     "metadata": {},
     "output_type": "execute_result"
    }
   ],
   "source": [
    "t(@interval(0.1))"
   ]
  },
  {
   "cell_type": "code",
   "execution_count": 11,
   "metadata": {
    "collapsed": false
   },
   "outputs": [
    {
     "data": {
      "text/plain": [
       "[0.19999999999999998, 0.2]"
      ]
     },
     "execution_count": 11,
     "metadata": {},
     "output_type": "execute_result"
    }
   ],
   "source": [
    "@interval f(0.1)"
   ]
  },
  {
   "cell_type": "code",
   "execution_count": 12,
   "metadata": {
    "collapsed": false
   },
   "outputs": [
    {
     "data": {
      "text/plain": [
       "[3.141592653589793, 3.1415926535897936]"
      ]
     },
     "execution_count": 12,
     "metadata": {},
     "output_type": "execute_result"
    }
   ],
   "source": [
    "@interval(pi)"
   ]
  },
  {
   "cell_type": "code",
   "execution_count": 13,
   "metadata": {
    "collapsed": false
   },
   "outputs": [
    {
     "data": {
      "text/plain": [
       "[2.718281828459045, 2.7182818284590455]"
      ]
     },
     "execution_count": 13,
     "metadata": {},
     "output_type": "execute_result"
    }
   ],
   "source": [
    "@interval(e)"
   ]
  },
  {
   "cell_type": "code",
   "execution_count": 20,
   "metadata": {
    "collapsed": false
   },
   "outputs": [
    {
     "data": {
      "text/plain": [
       "[0.3, 0.6000000000000001]"
      ]
     },
     "execution_count": 20,
     "metadata": {},
     "output_type": "execute_result"
    }
   ],
   "source": [
    "z = @interval(0.1,0.3)\n",
    "b = @interval(0.3,0.6)"
   ]
  },
  {
   "cell_type": "code",
   "execution_count": 22,
   "metadata": {
    "collapsed": false
   },
   "outputs": [
    {
     "data": {
      "text/plain": [
       "[0.0, 1.0]"
      ]
     },
     "execution_count": 22,
     "metadata": {},
     "output_type": "execute_result"
    }
   ],
   "source": [
    "a = @interval(0,1)"
   ]
  },
  {
   "cell_type": "code",
   "execution_count": 23,
   "metadata": {
    "collapsed": false
   },
   "outputs": [
    {
     "data": {
      "text/plain": [
       "[-1.0, 1.0]"
      ]
     },
     "execution_count": 23,
     "metadata": {},
     "output_type": "execute_result"
    }
   ],
   "source": [
    "a - a"
   ]
  },
  {
   "cell_type": "code",
   "execution_count": 48,
   "metadata": {
    "collapsed": false
   },
   "outputs": [
    {
     "data": {
      "text/plain": [
       "[2.718281828459045, 2.7182818284590455]"
      ]
     },
     "execution_count": 48,
     "metadata": {},
     "output_type": "execute_result"
    }
   ],
   "source": [
    "@interval(e)"
   ]
  },
  {
   "cell_type": "code",
   "execution_count": 51,
   "metadata": {
    "collapsed": false
   },
   "outputs": [
    {
     "data": {
      "text/plain": [
       "[2.718281828459045, 2.718281828459045]"
      ]
     },
     "execution_count": 51,
     "metadata": {},
     "output_type": "execute_result"
    }
   ],
   "source": [
    "exp(@interval(1))"
   ]
  },
  {
   "cell_type": "code",
   "execution_count": 46,
   "metadata": {
    "collapsed": false
   },
   "outputs": [
    {
     "data": {
      "text/plain": [
       "false"
      ]
     },
     "execution_count": 46,
     "metadata": {},
     "output_type": "execute_result"
    }
   ],
   "source": [
    "@interval(e) == exp(@interval(1))"
   ]
  },
  {
   "cell_type": "code",
   "execution_count": 52,
   "metadata": {
    "collapsed": false
   },
   "outputs": [
    {
     "data": {
      "text/plain": [
       "f (generic function with 1 method)"
      ]
     },
     "execution_count": 52,
     "metadata": {},
     "output_type": "execute_result"
    }
   ],
   "source": [
    "f(x) = x^2 - 2"
   ]
  },
  {
   "cell_type": "code",
   "execution_count": 53,
   "metadata": {
    "collapsed": false
   },
   "outputs": [
    {
     "data": {
      "text/plain": [
       "2-element Array{ValidatedNumerics.Root{Float64},1}:\n",
       " Root([-1.4142135623730951, -1.414213562373095], :unique)\n",
       " Root([1.414213562373095, 1.4142135623730951], :unique)  "
      ]
     },
     "execution_count": 53,
     "metadata": {},
     "output_type": "execute_result"
    }
   ],
   "source": [
    "newton(f, @interval(-5,5))"
   ]
  },
  {
   "cell_type": "code",
   "execution_count": 6,
   "metadata": {
    "collapsed": false
   },
   "outputs": [
    {
     "data": {
      "text/plain": [
       "f (generic function with 1 method)"
      ]
     },
     "execution_count": 6,
     "metadata": {},
     "output_type": "execute_result"
    }
   ],
   "source": [
    "f(x) = exp(x) - 1/x"
   ]
  },
  {
   "cell_type": "code",
   "execution_count": 3,
   "metadata": {
    "collapsed": false
   },
   "outputs": [
    {
     "data": {
      "text/plain": [
       "1-element Array{ValidatedNumerics.Root{Float64},1}:\n",
       " Root([0.5671432904097837, 0.567143290409784], :unique)"
      ]
     },
     "execution_count": 3,
     "metadata": {},
     "output_type": "execute_result"
    }
   ],
   "source": [
    "newton(f, @interval(0,100))"
   ]
  },
  {
   "cell_type": "code",
   "execution_count": 11,
   "metadata": {
    "collapsed": false
   },
   "outputs": [
    {
     "data": {
      "text/plain": [
       "([0.567143290409784],[1.1102230246251565e-16],[:unique])"
      ]
     },
     "execution_count": 11,
     "metadata": {},
     "output_type": "execute_result"
    }
   ],
   "source": [
    "find_roots_midpoint(f,0,5)"
   ]
  },
  {
   "cell_type": "code",
   "execution_count": 3,
   "metadata": {
    "collapsed": false
   },
   "outputs": [],
   "source": [
    "using Polynomials"
   ]
  },
  {
   "cell_type": "code",
   "execution_count": 24,
   "metadata": {
    "collapsed": false
   },
   "outputs": [
    {
     "data": {
      "text/plain": [
       "Poly(1 + 2x)"
      ]
     },
     "execution_count": 24,
     "metadata": {},
     "output_type": "execute_result"
    }
   ],
   "source": [
    "p = Poly([1,2])"
   ]
  },
  {
   "cell_type": "code",
   "execution_count": 25,
   "metadata": {
    "collapsed": false
   },
   "outputs": [
    {
     "data": {
      "text/plain": [
       "f (generic function with 1 method)"
      ]
     },
     "execution_count": 25,
     "metadata": {},
     "output_type": "execute_result"
    }
   ],
   "source": [
    "f(x) = 1 + 2x"
   ]
  },
  {
   "cell_type": "code",
   "execution_count": 26,
   "metadata": {
    "collapsed": false
   },
   "outputs": [
    {
     "data": {
      "text/plain": [
       "1-element Array{Float64,1}:\n",
       " -0.5"
      ]
     },
     "execution_count": 26,
     "metadata": {},
     "output_type": "execute_result"
    }
   ],
   "source": [
    "roots(p)"
   ]
  },
  {
   "cell_type": "code",
   "execution_count": 28,
   "metadata": {
    "collapsed": false
   },
   "outputs": [
    {
     "data": {
      "text/plain": [
       "1-element Array{ValidatedNumerics.Root{Float64},1}:\n",
       " Root([-0.5, -0.5], :unique)"
      ]
     },
     "execution_count": 28,
     "metadata": {},
     "output_type": "execute_result"
    }
   ],
   "source": [
    "newton(f, @interval(-1,1))"
   ]
  },
  {
   "cell_type": "code",
   "execution_count": 2,
   "metadata": {
    "collapsed": false
   },
   "outputs": [],
   "source": [
    "using Jacobi"
   ]
  },
  {
   "cell_type": "code",
   "execution_count": 43,
   "metadata": {
    "collapsed": false
   },
   "outputs": [
    {
     "data": {
      "text/plain": [
       "Poly(-0.24609375 + 13.53515625x^2 - 117.3046875x^4 + 351.9140625x^6 - 427.32421875x^8 + 180.42578125x^10)"
      ]
     },
     "execution_count": 43,
     "metadata": {},
     "output_type": "execute_result"
    }
   ],
   "source": [
    "P6 = poly_legendre(10)"
   ]
  },
  {
   "cell_type": "code",
   "execution_count": 44,
   "metadata": {
    "collapsed": false
   },
   "outputs": [
    {
     "data": {
      "text/plain": [
       "10-element Array{Float64,1}:\n",
       " -0.973907\n",
       " -0.865063\n",
       " -0.67941 \n",
       " -0.433395\n",
       " -0.148874\n",
       "  0.148874\n",
       "  0.433395\n",
       "  0.67941 \n",
       "  0.865063\n",
       "  0.973907"
      ]
     },
     "execution_count": 44,
     "metadata": {},
     "output_type": "execute_result"
    }
   ],
   "source": [
    "roots(P6)"
   ]
  },
  {
   "cell_type": "code",
   "execution_count": 45,
   "metadata": {
    "collapsed": false
   },
   "outputs": [
    {
     "data": {
      "text/plain": [
       "f (generic function with 1 method)"
      ]
     },
     "execution_count": 45,
     "metadata": {},
     "output_type": "execute_result"
    }
   ],
   "source": [
    "f(x) = -0.24609375 + 13.53515625x^2 - 117.3046875x^4 + 351.9140625x^6 - 427.32421875x^8 + 180.42578125x^10"
   ]
  },
  {
   "cell_type": "code",
   "execution_count": 46,
   "metadata": {
    "collapsed": false
   },
   "outputs": [
    {
     "data": {
      "text/plain": [
       "10-element Array{ValidatedNumerics.Root{Float64},1}:\n",
       " Root([-0.9739065285171787, -0.9739065285171645], :unique)  \n",
       " Root([-0.8650633666889908, -0.8650633666889745], :unique)  \n",
       " Root([-0.6794095682990278, -0.6794095682990222], :unique)  \n",
       " Root([-0.43339539412924766, -0.43339539412924677], :unique)\n",
       " Root([-0.14887433898163124, -0.14887433898163116], :unique)\n",
       " Root([0.14887433898163113, 0.14887433898163127], :unique)  \n",
       " Root([0.4333953941292468, 0.43339539412924744], :unique)   \n",
       " Root([0.6794095682990222, 0.6794095682990278], :unique)    \n",
       " Root([0.8650633666889757, 0.8650633666889952], :unique)    \n",
       " Root([0.9739065285171671, 0.9739065285171777], :unique)    "
      ]
     },
     "execution_count": 46,
     "metadata": {},
     "output_type": "execute_result"
    }
   ],
   "source": [
    "newton(f, @interval(-1,1))"
   ]
  },
  {
   "cell_type": "code",
   "execution_count": 123,
   "metadata": {
    "collapsed": false
   },
   "outputs": [],
   "source": [
    "using PyPlot, PyCall\n",
    "@pyimport matplotlib.patches as patches"
   ]
  },
  {
   "cell_type": "code",
   "execution_count": 1,
   "metadata": {
    "collapsed": false
   },
   "outputs": [
    {
     "name": "stderr",
     "output_type": "stream",
     "text": [
      "INFO: Building PyCall\n",
      "INFO: PyCall is using /usr/bin/python3 (Python 3.4.0) at /usr/bin/python3, libpython = libpython3.4m\n"
     ]
    }
   ],
   "source": [
    "#ENV[\"PYTHON\"] = \"/usr/bin/python3\"\n",
    "#Pkg.build(\"PyCall\")"
   ]
  },
  {
   "cell_type": "code",
   "execution_count": 31,
   "metadata": {
    "collapsed": false
   },
   "outputs": [
    {
     "data": {
      "image/png": "[encoded data removed]",
      "text/plain": [
       "PyPlot.Figure(PyObject <matplotlib.figure.Figure object at 0x7f5be67176a0>)"
      ]
     },
     "metadata": {},
     "output_type": "display_data"
    }
   ],
   "source": [
    "x = linspace(-1.0,1.0,401)\n",
    "y1 = legendre(x,1)\n",
    "y2 = legendre(x,2)\n",
    "y3 = legendre(x,3)\n",
    "y4 = legendre(x,4)\n",
    "y5 = legendre(x,5)\n",
    "y6 = legendre(x,6)\n",
    "z = legendre_zeros(4)\n",
    "y = [0,0,0,0]\n",
    "plot(x,y1,x,y2,x,y3,x,y4,x,y5,x,y6)\n",
    "#plot(x,y4,\"b\")\n",
    "#plot(z,y,\"rs\")\n",
    "axhline(y=0.0, color=\"black\")\n",
    "#[axvline(x=zz, color=\"red\") for zz in z];"
   ]
  },
  {
   "cell_type": "code",
   "execution_count": 45,
   "metadata": {
    "collapsed": false
   },
   "outputs": [
    {
     "data": {
      "text/plain": [
       "Poly(0.375 - 3.75x^2 + 4.375x^4)"
      ]
     },
     "execution_count": 45,
     "metadata": {},
     "output_type": "execute_result"
    }
   ],
   "source": [
    "P4 = poly_legendre(4)"
   ]
  },
  {
   "cell_type": "code",
   "execution_count": 46,
   "metadata": {
    "collapsed": false
   },
   "outputs": [
    {
     "data": {
      "text/plain": [
       "f (generic function with 1 method)"
      ]
     },
     "execution_count": 46,
     "metadata": {},
     "output_type": "execute_result"
    }
   ],
   "source": [
    "f(x) = 0.375 - 3.75x^2 + 4.375x^4"
   ]
  },
  {
   "cell_type": "code",
   "execution_count": 52,
   "metadata": {
    "collapsed": false
   },
   "outputs": [
    {
     "data": {
      "text/plain": [
       "4-element Array{Float64,1}:\n",
       " -0.861136\n",
       " -0.339981\n",
       "  0.339981\n",
       "  0.861136"
      ]
     },
     "execution_count": 52,
     "metadata": {},
     "output_type": "execute_result"
    }
   ],
   "source": [
    "z1 = find_roots_midpoint(f,-1,1)[1]"
   ]
  },
  {
   "cell_type": "code",
   "execution_count": 55,
   "metadata": {
    "collapsed": false
   },
   "outputs": [
    {
     "data": {
      "image/png": "[encoded data removed]",
      "text/plain": [
       "PyPlot.Figure(PyObject <matplotlib.figure.Figure object at 0x7fac90d2b518>)"
      ]
     },
     "metadata": {},
     "output_type": "display_data"
    },
    {
     "data": {
      "text/plain": [
       "PyObject <matplotlib.lines.Line2D object at 0x7fac90a59b00>"
      ]
     },
     "execution_count": 55,
     "metadata": {},
     "output_type": "execute_result"
    }
   ],
   "source": [
    "plot(x,y4,\"b\")\n",
    "plot(z1,y,\"rs\")\n",
    "axhline(y=0.0, color=\"black\")"
   ]
  },
  {
   "cell_type": "code",
   "execution_count": 17,
   "metadata": {
    "collapsed": false
   },
   "outputs": [
    {
     "data": {
      "image/png": "[encoded data removed]",
      "text/plain": [
       "PyPlot.Figure(PyObject <matplotlib.figure.Figure object at 0x7fc7d01aa9e8>)"
      ]
     },
     "metadata": {},
     "output_type": "display_data"
    },
    {
     "data": {
      "text/plain": [
       "PyObject <matplotlib.lines.Line2D object at 0x7fc7ce071d68>"
      ]
     },
     "execution_count": 17,
     "metadata": {},
     "output_type": "execute_result"
    }
   ],
   "source": [
    "x = linspace(-1.0,1.0,100)\n",
    "f = 0.375 - 3.75x.^2 + 4.375x.^4\n",
    "f1(x) = 0.375 - 3.75x.^2 + 4.375x.^4\n",
    "z = find_roots_midpoint(f1,-1,1)[1]\n",
    "plot(x,f)\n",
    "plot(z,zeros(z),\"rs\")\n",
    "axhline(y=0.0, color=\"black\")"
   ]
  },
  {
   "cell_type": "code",
   "execution_count": 3,
   "metadata": {
    "collapsed": false
   },
   "outputs": [
    {
     "data": {
      "text/plain": [
       "roots (generic function with 1 method)"
      ]
     },
     "execution_count": 3,
     "metadata": {},
     "output_type": "execute_result"
    }
   ],
   "source": [
    "function roots(fun,infBound,supBound; \n",
    "    steps=Int((supBound-infBound)*100),lineColor=\"b\",zerosColor=\"rs\")\n",
    "    try\n",
    "        x = linspace(infBound,supBound,steps)\n",
    "        result = fun(x)\n",
    "        ro = newton(fun,@interval(infBound,supBound))\n",
    "        z = find_roots_midpoint(fun,infBound,supBound)[1]\n",
    "        plot(x,result,lineColor)\n",
    "        plot(z,zeros(z),zerosColor)\n",
    "        axhline(y=0.0, color=\"black\")\n",
    "        ro\n",
    "    catch err\n",
    "        if isa(err,BoundsError)\n",
    "            print(\"There are no zeros in the interval \",\"[\",infBound,\",\",supBound,\"]\")\n",
    "        elseif isa(err,UndefVarError)\n",
    "            print(\"Function is not correctly written.\")\n",
    "        end\n",
    "    end\n",
    "end"
   ]
  },
  {
   "cell_type": "code",
   "execution_count": 6,
   "metadata": {
    "collapsed": false
   },
   "outputs": [
    {
     "data": {
      "image/png": "[encoded data removed]",
      "text/plain": [
       "PyPlot.Figure(PyObject <matplotlib.figure.Figure object at 0x7f2ece74fc88>)"
      ]
     },
     "metadata": {},
     "output_type": "display_data"
    },
    {
     "data": {
      "text/plain": [
       "2-element Array{ValidatedNumerics.Root{Float64},1}:\n",
       " Root([-1.5351837584879966, -1.5351837584879964], :unique)\n",
       " Root([0.8685170918213295, 0.86851709182133], :unique)    "
      ]
     },
     "execution_count": 6,
     "metadata": {},
     "output_type": "execute_result"
    }
   ],
   "source": [
    "roots(x -> 3x.^2+2x-4,-2,2)"
   ]
  },
  {
   "cell_type": "code",
   "execution_count": 17,
   "metadata": {
    "collapsed": false
   },
   "outputs": [
    {
     "data": {
      "text/plain": [
       "2-element Array{ValidatedNumerics.Root{Float64},1}:\n",
       " Root([-0.8767262153950626, -0.8767262153950623], :unique)    \n",
       " Root([-4.505822029328617e-24, 4.72523895695041e-24], :unique)"
      ]
     },
     "execution_count": 17,
     "metadata": {},
     "output_type": "execute_result"
    }
   ],
   "source": [
    "u(x) = x.^2+sin(x)\n",
    "newton(u, @interval(-10, 10))"
   ]
  },
  {
   "cell_type": "code",
   "execution_count": 10,
   "metadata": {
    "collapsed": false
   },
   "outputs": [
    {
     "data": {
      "text/plain": [
       "f (generic function with 1 method)"
      ]
     },
     "execution_count": 10,
     "metadata": {},
     "output_type": "execute_result"
    }
   ],
   "source": [
    "# Example with debug\n",
    "\n",
    "f(x) = x^2 - 2"
   ]
  },
  {
   "cell_type": "code",
   "execution_count": 12,
   "metadata": {
    "collapsed": false
   },
   "outputs": [
    {
     "data": {
      "text/plain": [
       "2-element Array{ValidatedNumerics.Root{Float64},1}:\n",
       " Root([-1.4142135623730951, -1.414213562373095], :unique)\n",
       " Root([1.414213562373095, 1.4142135623730951], :unique)  "
      ]
     },
     "execution_count": 12,
     "metadata": {},
     "output_type": "execute_result"
    }
   ],
   "source": [
    "newton(f, @interval(-2, 2))"
   ]
  },
  {
   "cell_type": "code",
   "execution_count": 13,
   "metadata": {
    "collapsed": false
   },
   "outputs": [
    {
     "name": "stdout",
     "output_type": "stream",
     "text": [
      "Entering newton:level = "
     ]
    },
    {
     "data": {
      "text/plain": [
       "2-element Array{ValidatedNumerics.Root{Float64},1}:\n",
       " Root([-1.4142135623730951, -1.414213562373095], :unique)\n",
       " Root([1.414213562373095, 1.4142135623730951], :unique)  "
      ]
     },
     "execution_count": 13,
     "metadata": {},
     "output_type": "execute_result"
    },
    {
     "name": "stdout",
     "output_type": "stream",
     "text": [
      "0\n",
      "x = [-2.0, 2.0]\n",
      "deriv = [-4.0, 4.0]\n",
      "(y1,y2) = ([-4.0, -0.0],[0.0, 4.0])\n",
      "N(f,x,y1) = [-∞, -0.37109375]\n",
      "N(f,x,y2) = [0.62109375, ∞]\n",
      "y1 = [-2.0, -0.37109375]\n",
      "y2 = [0.62109375, 2.0]\n",
      "Entering newton:level = 1\n",
      "x = [-2.0, -0.37109375]\n",
      "deriv = [-4.0, -0.7421875]\n",
      "Nx = [-1.9865285773026318, -1.3341665267944336]\n",
      "Nx ⊆ x = true\n",
      "Nx ∩ x = [-1.9865285773026318, -1.3341665267944336]\n",
      "Refining x = [-2.0, -0.37109375]\n",
      "Entering newton_refine:x = [-1.9865285773026318, -1.3341665267944336]\n",
      "x = [-1.9865285773026318, -1.3341665267944336]\n",
      "Nx = [-1.469876092881029, -1.3767420281519813]\n",
      "x = [-1.469876092881029, -1.3767420281519813]\n",
      "Nx = [-1.414529857332858, -1.41393596039294]\n",
      "x = [-1.414529857332858, -1.41393596039294]\n",
      "Nx = [-1.4142135665667528, -1.4142135584423883]\n",
      "x = [-1.4142135665667528, -1.4142135584423883]\n",
      "Nx = [-1.4142135623730954, -1.414213562373095]\n",
      "x = [-1.4142135623730954, -1.414213562373095]\n",
      "Nx = [-1.4142135623730951, -1.414213562373095]\n",
      "(\"Refined root\",x) = (\"Refined root\",[-1.4142135623730951, -1.414213562373095])\n",
      "Entering newton:level = 1\n",
      "x = [0.62109375, 2.0]\n",
      "deriv = [1.2421875, 4.0]\n",
      "Nx = [1.3811635971069336, 1.5379416027908805]\n",
      "Nx ⊆ x = true\n",
      "Nx ∩ x = [1.3811635971069336, 1.5379416027908805]\n",
      "Refining x = [0.62109375, 2.0]\n",
      "Entering newton_refine:x = [1.3811635971069336, 1.5379416027908805]\n",
      "x = [1.3811635971069336, 1.5379416027908805]\n",
      "Nx = [1.4123844758068664, 1.417192801702611]\n",
      "x = [1.4123844758068664, 1.417192801702611]\n",
      "Nx = [1.4142127005532947, 1.4142146546265624]\n",
      "x = [1.4142127005532947, 1.4142146546265624]\n",
      "Nx = [1.4142135623730199, 1.4142135623731795]\n",
      "x = [1.4142135623730199, 1.4142135623731795]\n",
      "Nx = [1.414213562373095, 1.4142135623730951]\n",
      "(\"Refined root\",x) = (\"Refined root\",[1.414213562373095, 1.4142135623730951])\n",
      "roots = [Root([-1.4142135623730951, -1.414213562373095], :unique),Root([1.414213562373095, 1.4142135623730951], :unique)]\n"
     ]
    }
   ],
   "source": [
    "newton(f, @interval(-2, 2), debug=true)"
   ]
  },
  {
   "cell_type": "code",
   "execution_count": 14,
   "metadata": {
    "collapsed": false
   },
   "outputs": [
    {
     "data": {
      "text/plain": [
       "g (generic function with 1 method)"
      ]
     },
     "execution_count": 14,
     "metadata": {},
     "output_type": "execute_result"
    }
   ],
   "source": [
    "g(x) = x^3 - 2 + cos(x)"
   ]
  },
  {
   "cell_type": "code",
   "execution_count": 15,
   "metadata": {
    "collapsed": false
   },
   "outputs": [
    {
     "data": {
      "text/plain": [
       "1-element Array{ValidatedNumerics.Root{Float64},1}:\n",
       " Root([1.1725779647539698, 1.1725779647539702], :unique)"
      ]
     },
     "execution_count": 15,
     "metadata": {},
     "output_type": "execute_result"
    }
   ],
   "source": [
    "newton(g, @interval(-2, 2))"
   ]
  },
  {
   "cell_type": "code",
   "execution_count": 16,
   "metadata": {
    "collapsed": false
   },
   "outputs": [
    {
     "name": "stdout",
     "output_type": "stream",
     "text": [
      "Entering newton:level = "
     ]
    },
    {
     "data": {
      "text/plain": [
       "1-element Array{ValidatedNumerics.Root{Float64},1}:\n",
       " Root([1.1725779647539698, 1.1725779647539702], :unique)"
      ]
     },
     "execution_count": 16,
     "metadata": {},
     "output_type": "execute_result"
    },
    {
     "name": "stdout",
     "output_type": "stream",
     "text": [
      "0\n",
      "x = [-2.0, 2.0]\n",
      "deriv = [-1.0, 13.0]\n",
      "(y1,y2) = ([-1.0, -0.0],[0.0, 13.0])\n",
      "N(f,x,y1) = [-∞, -0.8808492077706709]\n",
      "N(f,x,y2) = [0.2023730159823593, ∞]\n",
      "y1 = [-2.0, -0.8808492077706709]\n",
      "y2 = [0.2023730159823593, 2.0]\n",
      "Entering newton:level = 1\n",
      "x = [-2.0, -0.8808492077706709]\n",
      "deriv = [3.098965655116703, 13.0]\n",
      "Nx = [-1.0666843396664487, 0.1273963969132561]\n",
      "Nx ⊆ x = false\n",
      "Nx ∩ x = [-1.0666843396664487, -0.8808492077706709]\n",
      "x = [-2.0, -0.8808492077706709]\n",
      "m = -1.4404246038853354\n",
      "Entering newton:level = 2\n",
      "x = [-2.0, -1.4404246038853354]\n",
      "deriv = [7.133766545260357, 13.0]\n",
      "Nx = [-1.1633512946410187, -0.705433776602344]\n",
      "Nx ⊆ x = false\n",
      "Nx ∩ x = ∅\n",
      "Entering newton:level = 2\n",
      "x = [-1.4404246038853352, -0.8808492077706709]\n",
      "deriv = [3.098965655116703, 7.21598275566392]\n",
      "Nx = [-0.7220669910547649, -0.13942102467377837]\n",
      "Nx ⊆ x = false\n",
      "Nx ∩ x = ∅\n",
      "roots = ValidatedNumerics.Root{Float64}[]\n",
      "Entering newton:level = 1\n",
      "x = [0.2023730159823593, 2.0]\n",
      "deriv = [-0.8771354872066113, 11.799005517108295]\n",
      "(y1,y2) = ([-0.8771354872066113, -0.0],[0.0, 11.799005517108295])\n",
      "N(f,x,y1) = [-∞, 0.8593197109691494]\n",
      "N(f,x,y2) = [1.1191668327344308, ∞]\n",
      "y1 = [0.2023730159823593, 0.8593197109691494]\n",
      "y2 = [1.1191668327344308, 2.0]\n",
      "Entering newton:level = 2\n",
      "x = [0.2023730159823593, 0.8593197109691494]\n",
      "deriv = [-0.6345340287210426, 2.0142966140886016]\n",
      "(y1,y2) = ([-0.6345340287210426, -0.0],[0.0, 2.0142966140886016])\n",
      "N(f,x,y1) = [-∞, -1.02624858907605]\n",
      "N(f,x,y2) = [1.0213549243467388, ∞]\n",
      "y1 = ∅\n",
      "y2 = ∅\n",
      "Entering newton:level = 3\n",
      "x = ∅\n",
      "Entering newton:level = 3\n",
      "x = ∅\n",
      "roots = ValidatedNumerics.Root{Float64}[]\n",
      "Entering newton:level = 2\n",
      "x = [1.1191668327344308, 2.0]\n",
      "deriv = [2.757603198478452, 11.100262866544226]\n",
      "Nx = [0.9051788614344406, 1.397011762391304]\n",
      "Nx ⊆ x = false\n",
      "Nx ∩ x = [1.1191668327344308, 1.397011762391304]\n",
      "x = [1.1191668327344308, 2.0]\n",
      "m = 1.5595834163672153\n",
      "Entering newton:level = 3\n",
      "x = [1.1191668327344308, 1.5595834163672153]\n",
      "deriv = [2.7576660624999225, 6.397164164367131]\n",
      "Nx = [1.110159350869108, 1.2405656296198357]\n",
      "Nx ⊆ x = false\n",
      "Nx ∩ x = [1.1191668327344308, 1.2405656296198357]\n",
      "x = [1.1191668327344308, 1.5595834163672153]\n",
      "m = 1.339375124550823\n",
      "Entering newton:level = 4\n",
      "x = [1.1191668327344308, 1.339375124550823]\n",
      "deriv = [2.7842617888452805, 4.482040039340823]\n",
      "Nx = [1.160137794043567, 1.1863251587635486]\n",
      "Nx ⊆ x = true\n",
      "Nx ∩ x = [1.160137794043567, 1.1863251587635486]\n",
      "Refining x = [1.1191668327344308, 1.339375124550823]\n",
      "Entering newton_refine:x = [1.160137794043567, 1.1863251587635486]\n",
      "x = [1.160137794043567, 1.1863251587635486]\n",
      "Nx = [1.1725581174917517, 1.1725977381887218]\n",
      "x = [1.1725581174917517, 1.1725977381887218]\n",
      "Nx = [1.1725779647522765, 1.1725779647556664]\n",
      "x = [1.1725779647522765, 1.1725779647556664]\n",
      "Nx = [1.1725779647539698, 1.1725779647539702]\n",
      "x = [1.1725779647539698, 1.1725779647539702]\n",
      "Nx = [1.1725779647539698, 1.1725779647539702]\n",
      "(\"Refined root\",x) = (\"Refined root\",[1.1725779647539698, 1.1725779647539702])\n",
      "Entering newton:level = 4\n",
      "x = [1.3393751245508232, 1.5595834163672153]\n",
      "deriv = [4.381840036818069, 6.3235598881897355]\n",
      "Nx = [1.1832985436392367, 1.2650323155109653]\n",
      "Nx ⊆ x = false\n",
      "Nx ∩ x = ∅\n",
      "roots = [Root([1.1725779647539698, 1.1725779647539702], :unique)]\n",
      "Entering newton:level = 3\n",
      "x = [1.5595834163672155, 2.0]\n",
      "deriv = [6.296901297822905, 11.090702573174319]\n",
      "Nx = [1.2350324738717746, 1.4704970438549267]\n",
      "Nx ⊆ x = false\n",
      "Nx ∩ x = ∅\n",
      "roots = [Root([1.1725779647539698, 1.1725779647539702], :unique)]\n",
      "roots = [Root([1.1725779647539698, 1.1725779647539702], :unique)]\n",
      "roots = [Root([1.1725779647539698, 1.1725779647539702], :unique)]\n"
     ]
    }
   ],
   "source": [
    "newton(g, @interval(-2, 2), debug=true)"
   ]
  },
  {
   "cell_type": "code",
   "execution_count": 372,
   "metadata": {
    "collapsed": false
   },
   "outputs": [
    {
     "name": "stdout",
     "output_type": "stream",
     "text": [
      "-0.8611363115940527-0.33998104358485630.33998104358485620.8611363115940525"
     ]
    }
   ],
   "source": [
    "x = linspace(-1.0,1.0,100)\n",
    "f = 0.375 - 3.75x.^2 + 4.375x.^4\n",
    "f1(x) = 0.375 - 3.75x.^2 + 4.375x.^4\n",
    "#z = find_roots_midpoint(f1,-1,1)[1]\n",
    "#plot(x,f)\n",
    "#plot(z,zeros(z),\"rs\")\n",
    "#axhline(y=0.0, color=\"black\")\n",
    "roots1 = newton(f1,@interval(-1,1))\n",
    "for i = 1:length(roots1)\n",
    "    a = zeros(0)\n",
    "    b = zeros(length(roots1))\n",
    "    lo = roots1[i].interval.lo\n",
    "    hi = roots1[i].interval.hi\n",
    "    a1 = push!(a,Float64(roots1[i].interval.lo))\n",
    "    b1 = unshift!(b,hi)\n",
    "    c1 = [lo,hi]\n",
    "    print(lo)\n",
    "    #draw_rectangle(a[1[1]],b[1],0.1,0.1)\n",
    "    end\n",
    "#draw_rectangle(0.1,0.1,0.5,0.5)"
   ]
  },
  {
   "cell_type": "code",
   "execution_count": 171,
   "metadata": {
    "collapsed": false
   },
   "outputs": [
    {
     "data": {
      "image/png": "[encoded data removed]",
      "text/plain": [
       "PyPlot.Figure(PyObject <matplotlib.figure.Figure object at 0x7f1277bf5b00>)"
      ]
     },
     "metadata": {},
     "output_type": "display_data"
    },
    {
     "data": {
      "text/plain": [
       "PyObject <matplotlib.patches.Rectangle object at 0x7f1277ccedd8>"
      ]
     },
     "execution_count": 171,
     "metadata": {},
     "output_type": "execute_result"
    }
   ],
   "source": [
    "rectangle = patches.Rectangle\n",
    "function draw_rectangle(x, y, xwidth, ywidth, color=\"grey\")\n",
    "    ax = gca()\n",
    "    ax[:add_patch](rectangle((x, y), xwidth, ywidth, facecolor=color, alpha=0.5))\n",
    "end\n",
    "draw_rectangle(0.1,0.1,0.5,0.5)"
   ]
  }
 ],
 "metadata": {
  "kernelspec": {
   "display_name": "Julia 0.5.0-dev",
   "language": "julia",
   "name": "julia-0.5"
  },
  "language_info": {
   "file_extension": ".jl",
   "mimetype": "application/julia",
   "name": "julia",
   "version": "0.5.0"
  }
 },
 "nbformat": 4,
 "nbformat_minor": 0
}

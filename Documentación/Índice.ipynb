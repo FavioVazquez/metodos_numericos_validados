{
 "cells": [
  {
   "cell_type": "markdown",
   "metadata": {},
   "source": [
    "# ValidatedNumerics.jl"
   ]
  },
  {
   "cell_type": "markdown",
   "metadata": {},
   "source": [
    "`ValidatedNumerics.jl` es un paquete de Julia para realizar numéricos validados, i.e. computación *rigurosa* con artimética de punto flotante de precisión finita."
   ]
  },
  {
   "cell_type": "markdown",
   "metadata": {},
   "source": [
    "## Instalación"
   ]
  },
  {
   "cell_type": "markdown",
   "metadata": {},
   "source": [
    "Para instalar el paquete, desde Julia escribir "
   ]
  },
  {
   "cell_type": "markdown",
   "metadata": {},
   "source": [
    "```\n",
    "julia > Pkg.add(\"ValidatedNumerics\")\n",
    "```"
   ]
  },
  {
   "cell_type": "markdown",
   "metadata": {},
   "source": [
    "## Aritmética de intervalos"
   ]
  },
  {
   "cell_type": "markdown",
   "metadata": {},
   "source": [
    "Todos los cálculos son realizados usando **aritmética de intervalos**: todas las cantidades son tratados como intervalos, que son propagados a través de un cálculo. El resultado final es un intervalo que *garantiza* contener el resultado correcto, partiendo de los datos iniciales dados.\n",
    "\n",
    "El objetivo del paquete es exactitud sobre velocidad, aunque se han tomado en cuenta consideraciones de performance."
   ]
  },
  {
   "cell_type": "markdown",
   "metadata": {},
   "source": [
    "## Contenido del proyecto"
   ]
  },
  {
   "cell_type": "markdown",
   "metadata": {},
   "source": [
    "- [Uso básico](UsoBasico.ipynb)\n",
    "- [Encontrar raíces - introducción]()\n",
    "- [Aplicación]()\n",
    "- [Conclusión]()"
   ]
  },
  {
   "cell_type": "markdown",
   "metadata": {},
   "source": [
    "## Autores del paquete\n",
    "\n",
    "- [Luis Benet](http://www.cicc.unam.mx/~benet/), Instituto de Ciencias Físicas,\n",
    "Universidad Nacional Autónoma de México (UNAM)\n",
    "- [David P. Sanders](http://sistemas.fciencias.unam.mx/~dsanders),\n",
    "Departamento de Física, Facultad de Ciencias, Universidad Nacional Autónoma de México (UNAM)"
   ]
  },
  {
   "cell_type": "markdown",
   "metadata": {},
   "source": [
    "## Contribuidores\n",
    "\n",
    "- Nikolay Kryukov\n",
    "- John Verzani"
   ]
  }
 ],
 "metadata": {
  "kernelspec": {
   "display_name": "Julia 0.5.0-dev",
   "language": "julia",
   "name": "julia-0.5"
  },
  "language_info": {
   "file_extension": ".jl",
   "mimetype": "application/julia",
   "name": "julia",
   "version": "0.5.0"
  }
 },
 "nbformat": 4,
 "nbformat_minor": 0
}

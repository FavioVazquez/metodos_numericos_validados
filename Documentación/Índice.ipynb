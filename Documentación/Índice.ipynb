{
 "cells": [
  {
   "cell_type": "markdown",
   "metadata": {
    "slideshow": {
     "slide_type": "slide"
    }
   },
   "source": [
    "<h1 align=\"center\"> Encontrando raíces de funciones no lineales con métodos numéricos validados utilizando el método de Newton para intervalos</h1> \n",
    "\n",
    "<img src=\"../files/Imagenes/1.png\" height=\"800\" width=\"800\">\n",
    "\n",
    "<h3 align=\"center\"> Favio Vázquez. Instituto de Ciencias Nucleares - UNAM.</h3> \n",
    "\n",
    "<h4 align=\"center\">Análisis y Métodos numéricos. </h4> \n",
    "<h4 align=\"center\"> Profesores: Dr. Lukas Nellen y Dra. Myriam Mondragón.</h4> \n",
    "\n",
    "\n",
    "<h5 align=\"center\"> Ciudad de México, 3 de diciembre de 2015</h5> "
   ]
  },
  {
   "cell_type": "markdown",
   "metadata": {
    "slideshow": {
     "slide_type": "slide"
    }
   },
   "source": [
    "# ValidatedNumerics.jl\n",
    "\n",
    "`ValidatedNumerics.jl` es un paquete de Julia para realizar numéricos validados, i.e. computación *rigurosa* con artimética de punto flotante de precisión finita."
   ]
  },
  {
   "cell_type": "markdown",
   "metadata": {
    "slideshow": {
     "slide_type": "slide"
    }
   },
   "source": [
    "## Instalación"
   ]
  },
  {
   "cell_type": "markdown",
   "metadata": {
    "slideshow": {
     "slide_type": "fragment"
    }
   },
   "source": [
    "Para instalar el paquete, desde Julia solo se debe escribir "
   ]
  },
  {
   "cell_type": "markdown",
   "metadata": {
    "slideshow": {
     "slide_type": "fragment"
    }
   },
   "source": [
    "```\n",
    "julia > Pkg.add(\"ValidatedNumerics\")\n",
    "```"
   ]
  },
  {
   "cell_type": "markdown",
   "metadata": {
    "slideshow": {
     "slide_type": "slide"
    }
   },
   "source": [
    "## Aritmética de intervalos\n",
    "\n",
    "Todos los cálculos son realizados usando **aritmética de intervalos**: todas las cantidades son tratados como intervalos, que son propagados a través de un cálculo. El resultado final es un intervalo que *garantiza* contener el resultado correcto, partiendo de los datos iniciales dados.\n",
    "\n",
    "El objetivo del paquete es exactitud sobre velocidad, aunque se han tomado en cuenta consideraciones de performance."
   ]
  },
  {
   "cell_type": "markdown",
   "metadata": {
    "collapsed": true,
    "slideshow": {
     "slide_type": "slide"
    }
   },
   "source": [
    "## Autores del paquete\n",
    "\n",
    "- [Luis Benet](http://www.cicc.unam.mx/~benet/), Instituto de Ciencias Físicas,\n",
    "Universidad Nacional Autónoma de México (UNAM)\n",
    "- [David P. Sanders](http://sistemas.fciencias.unam.mx/~dsanders),\n",
    "Departamento de Física, Facultad de Ciencias, Universidad Nacional Autónoma de México (UNAM)"
   ]
  },
  {
   "cell_type": "markdown",
   "metadata": {
    "slideshow": {
     "slide_type": "fragment"
    }
   },
   "source": [
    "## Contribuidores\n",
    "\n",
    "- Nikolay Kryukov\n",
    "- John Verzani"
   ]
  },
  {
   "cell_type": "markdown",
   "metadata": {
    "slideshow": {
     "slide_type": "slide"
    }
   },
   "source": [
    "## Contenido del proyecto\n",
    "\n",
    "- [Uso básico](UsoBasico.ipynb)\n",
    "- [Encontrando raíces](EncontrandoRaices.ipynb)\n",
    "- [Aplicación](Aplicacion.ipynb)"
   ]
  }
 ],
 "metadata": {
  "celltoolbar": "Slideshow",
  "kernelspec": {
   "display_name": "Julia 0.5.0-dev",
   "language": "julia",
   "name": "julia-0.5"
  },
  "language_info": {
   "file_extension": ".jl",
   "mimetype": "application/julia",
   "name": "julia",
   "version": "0.5.0"
  }
 },
 "nbformat": 4,
 "nbformat_minor": 0
}

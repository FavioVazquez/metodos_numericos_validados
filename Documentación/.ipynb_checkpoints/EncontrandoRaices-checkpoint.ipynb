{
 "cells": [
  {
   "cell_type": "markdown",
   "metadata": {},
   "source": [
    "# Encontrando Raíces"
   ]
  },
  {
   "cell_type": "markdown",
   "metadata": {},
   "source": [
    "La aritmética de intervalos no solamente provee cálculos numéricos garantizados; también hace posible la creación de nuevos algoritmos, y la re-implementación de algunos fundamentales."
   ]
  },
  {
   "cell_type": "markdown",
   "metadata": {},
   "source": [
    "## Método de newton para intervalos"
   ]
  },
  {
   "cell_type": "markdown",
   "metadata": {},
   "source": [
    "Uno de estos algoritmos es el **método de Newton para intervalos**. Esta es una versión del algoritmo estándar \n",
    "de Newton (o Newton-Raphson), el cual es un método iterativo para encontrar raíces (ceros) de funciones. La versión para invervalos, sin ebargo, es fundamentalmente diferente que la orginal, en el hecho de que puede (bajo las mejores circustancias) proveer *garantías* rigurosos acerca de la presenca o ausencia de raíces únicas de una función dada en un intervalo dado, y no dice explícitamente cuando no puede proveer dicha garantía."
   ]
  },
  {
   "cell_type": "markdown",
   "metadata": {},
   "source": [
    "La idea del método de Newton es calcular una raíz $x^*$ de una función $f$ (i.e., un valor tal que $f(x^*) = 0$) dada una estimación inicial $x$ usando \n",
    "\n",
    "$$\n",
    "x^* = x - \\frac{f(x)}{f'(\\xi)},\n",
    "$$\n",
    "\n",
    "para algún $\\xi$ entre $x$ y $x^*$. Debido a que $\\xi$ es desconocido, podemos limitarlo como \n",
    "\n",
    "$$\n",
    "f'(\\xi) \\in F'(X),\n",
    "$$\n",
    "\n",
    "donde $X$ es un intervalo que lo contiene, y $F'(X)$ denota el **itervalo de extensión** de la función $f$, que consiste en la aplicación de las mismas operaciones como la función $f$ al intervalo $X$."
   ]
  },
  {
   "cell_type": "markdown",
   "metadata": {},
   "source": [
    "Definimos un *operador de intervalo de Newton* $\\mathcal{N}$ como:\n",
    "\n",
    "$$\n",
    "\\mathcal{N}(X) := m(X) - \\frac{F(m(X))}{F'(X)},\n",
    "$$\n",
    "\n",
    "donde $m(X)$ es el punto medio de $X$ convertido en un intervalo."
   ]
  },
  {
   "cell_type": "markdown",
   "metadata": {},
   "source": [
    "Resulta que $\\mathcal{N}$ nos dice precisamente si existe una raiz de $f$ en el intervalo $X$: no hay raíz si $\\mathcal{N}(X) \\bigcap X = \\emptyset$, y hay una raíz única si $\\mathcal{N}(X) \\subseteq X$. También hay una extensión a intervalos en los que da derivada $F'(X)$ contiene el 0, en este caso el operador de Newton retorna la unión de dos intervalos."
   ]
  },
  {
   "cell_type": "markdown",
   "metadata": {},
   "source": [
    "Iterando el operador de Newton en el conjunto resultante nos da un algoritmo riguroso que *garantiza encontrar todas las raíces* de una función real en un intervalo dado; en realidad, lo hace si la raíz es única, pero no puede hacerlo si tenemos una raíz múltiple."
   ]
  },
  {
   "cell_type": "markdown",
   "metadata": {},
   "source": [
    "## Uso del método de Newton para intervalos.  Con algunos ejemplos simples."
   ]
  },
  {
   "cell_type": "markdown",
   "metadata": {},
   "source": [
    "El método de newton para intervalos está implementado en la librería para funciones reales de una variable en la función `newton`. Por ejemplo, podemos calcular rigurosamente las raíces cuadradas de 2:"
   ]
  },
  {
   "cell_type": "code",
   "execution_count": null,
   "metadata": {
    "collapsed": false
   },
   "outputs": [],
   "source": [
    "using ValidatedNumerics"
   ]
  },
  {
   "cell_type": "code",
   "execution_count": null,
   "metadata": {
    "collapsed": false
   },
   "outputs": [],
   "source": [
    "f(x) = x^2 - 2"
   ]
  },
  {
   "cell_type": "code",
   "execution_count": null,
   "metadata": {
    "collapsed": false
   },
   "outputs": [],
   "source": [
    "newton(f, @interval(-5, 5))"
   ]
  },
  {
   "cell_type": "markdown",
   "metadata": {},
   "source": [
    "A la función `newton` se le pasa la función y el intervalo en que buscará las raíces; retorna un arreglo de objetos `Root`, que contienen el intervalo donde la raíz fue encontrada, junto con un símbolo `:unique` si está garantizado que la raíz es única en ese intervalo, o `:unknown` si el método no puede garantizarlo."
   ]
  },
  {
   "cell_type": "markdown",
   "metadata": {},
   "source": [
    "La función `newton` en algunos casos puede devolver un resultado en que algunas raíces tengan el símbolo `:unique` y otras `:unknown`. Un ejemplo interesante de esto se puede ver con los polimonios de Wilkison, que recordamos que tienen la siguiente forma \n",
    "\n",
    "$$\n",
    "W_n = (x-1)\\cdot(x-2)\\cdots(x-n).\n",
    "$$\n",
    "\n",
    "Usaremos el paquete `Polynomials` para encontrar los coeficientes:"
   ]
  },
  {
   "cell_type": "code",
   "execution_count": null,
   "metadata": {
    "collapsed": false
   },
   "outputs": [],
   "source": [
    "using Polynomials"
   ]
  },
  {
   "cell_type": "code",
   "execution_count": null,
   "metadata": {
    "collapsed": false
   },
   "outputs": [],
   "source": [
    "function wilkinson_coefficients(n)\n",
    "    p = poly(collect(1:n))\n",
    "    p.a\n",
    "end\n",
    "\n",
    "function generate_wilkinson_horner(n)\n",
    "    coeffs = wilkinson_coefficients(n)\n",
    "\n",
    "    expr = :($(coeffs[end]))  # comenzar con la potencia más alta\n",
    "\n",
    "    for i in length(coeffs)-1:-1:1\n",
    "        expr = :($expr*x + $(coeffs[i]))\n",
    "    end\n",
    "\n",
    "    expr\n",
    "end\n",
    "\n",
    "function subscriptify(n::Int)\n",
    "    subscript_digits = [c for c in \"₀₁₂₃₄₅₆₇₈₉\"]\n",
    "    dig = reverse(digits(n))\n",
    "    join([subscript_digits[i+1] for i in dig])\n",
    "end\n",
    "\n",
    "for n in 1:15\n",
    "    fn_name = symbol(string(\"W\", subscriptify(n)))\n",
    "    expr = generate_wilkinson_horner(n)\n",
    "\n",
    "    @eval $(fn_name)(x) = $(expr)\n",
    "end"
   ]
  },
  {
   "cell_type": "markdown",
   "metadata": {},
   "source": [
    "Por ejemplo, $W_2 = 2 - 3x + x^2$,"
   ]
  },
  {
   "cell_type": "code",
   "execution_count": null,
   "metadata": {
    "collapsed": false
   },
   "outputs": [],
   "source": [
    "wilkinson_coefficients(2)"
   ]
  },
  {
   "cell_type": "code",
   "execution_count": null,
   "metadata": {
    "collapsed": false
   },
   "outputs": [],
   "source": [
    "generate_wilkinson_horner(2)"
   ]
  },
  {
   "cell_type": "markdown",
   "metadata": {},
   "source": [
    "Veamos entonces un ejemplo intersante de lo que hemos comentado:"
   ]
  },
  {
   "cell_type": "code",
   "execution_count": null,
   "metadata": {
    "collapsed": false
   },
   "outputs": [],
   "source": [
    "wilkinson_coefficients(12)"
   ]
  },
  {
   "cell_type": "code",
   "execution_count": null,
   "metadata": {
    "collapsed": false
   },
   "outputs": [],
   "source": [
    "generate_wilkinson_horner(12)"
   ]
  },
  {
   "cell_type": "code",
   "execution_count": null,
   "metadata": {
    "collapsed": false
   },
   "outputs": [],
   "source": [
    "roots = newton(W₁₂, @interval(-10, 10))"
   ]
  },
  {
   "cell_type": "markdown",
   "metadata": {},
   "source": [
    "Vemos que en algunos casos la función `newton` como habíamos dicho no nos dice si la raíz es única en algunos casos, y a veces repite el mismo valor de intervalo para el cual no encontró la unicidad. En algunos casos se le puede dar la vuelta a este problema aumentado la precisión de los intervalos, y utilizando el vector de raíces conocidas, para refinarlas con más precisión, y mejorando el performance del paquete (velocidad): "
   ]
  },
  {
   "cell_type": "code",
   "execution_count": null,
   "metadata": {
    "collapsed": false
   },
   "outputs": [],
   "source": [
    "set_interval_precision(256)\n",
    "roots2 = newton(W₁₂, roots) #ver la defición de roots2"
   ]
  }
 ],
 "metadata": {
  "kernelspec": {
   "display_name": "Julia 0.5.0-dev",
   "language": "julia",
   "name": "julia-0.5"
  },
  "language_info": {
   "file_extension": ".jl",
   "mimetype": "application/julia",
   "name": "julia",
   "version": "0.5.0"
  }
 },
 "nbformat": 4,
 "nbformat_minor": 0
}

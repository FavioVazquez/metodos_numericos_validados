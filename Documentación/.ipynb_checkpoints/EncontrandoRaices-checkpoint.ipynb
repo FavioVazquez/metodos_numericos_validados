{
 "cells": [
  {
   "cell_type": "markdown",
   "metadata": {
    "slideshow": {
     "slide_type": "slide"
    }
   },
   "source": [
    "# Encontrando Raíces\n",
    "\n",
    "La aritmética de intervalos no solamente provee cálculos numéricos garantizados; también hace posible la creación de nuevos algoritmos, y la re-implementación de algunos fundamentales."
   ]
  },
  {
   "cell_type": "markdown",
   "metadata": {
    "slideshow": {
     "slide_type": "slide"
    }
   },
   "source": [
    "## Método de newton para intervalos\n",
    "\n",
    "Uno de estos algoritmos es el **método de Newton para intervalos**. Esta es una versión del algoritmo estándar \n",
    "de Newton (o Newton-Raphson), el cual es un método iterativo para encontrar raíces (ceros) de funciones. La versión para invervalos, sin ebargo, es fundamentalmente diferente que la orginal, en el hecho de que puede (bajo las mejores circustancias) proveer *garantías* rigurosos acerca de la presenca o ausencia de raíces únicas de una función dada en un intervalo dado, y no dice explícitamente cuando no puede proveer dicha garantía."
   ]
  },
  {
   "cell_type": "markdown",
   "metadata": {
    "slideshow": {
     "slide_type": "subslide"
    }
   },
   "source": [
    "La idea del método de Newton es calcular una raíz $x^*$ de una función $f$ (i.e., un valor tal que $f(x^*) = 0$) dada una estimación inicial $x$ usando \n",
    "\n",
    "$$\n",
    "x^* = x - \\frac{f(x)}{f'(\\xi)},\n",
    "$$\n",
    "\n",
    "para algún $\\xi$ entre $x$ y $x^*$. Debido a que $\\xi$ es desconocido, podemos limitarlo como \n",
    "\n",
    "$$\n",
    "f'(\\xi) \\in F'(X),\n",
    "$$\n",
    "\n",
    "donde $X$ es un intervalo que lo contiene, y $F'(X)$ denota el **itervalo de extensión** de la función $f$, que consiste en la aplicación de las mismas operaciones como la función $f$ al intervalo $X$."
   ]
  },
  {
   "cell_type": "markdown",
   "metadata": {
    "slideshow": {
     "slide_type": "subslide"
    }
   },
   "source": [
    "Definimos un *operador de intervalo de Newton* $\\mathcal{N}$ como:\n",
    "\n",
    "$$\n",
    "\\mathcal{N}(X) := m(X) - \\frac{F(m(X))}{F'(X)},\n",
    "$$\n",
    "\n",
    "donde $m(X)$ es el punto medio de $X$ convertido en un intervalo."
   ]
  },
  {
   "cell_type": "markdown",
   "metadata": {
    "slideshow": {
     "slide_type": "subslide"
    }
   },
   "source": [
    "Resulta que $\\mathcal{N}$ nos dice precisamente si existe una raiz de $f$ en el intervalo $X$: no hay raíz si $\\mathcal{N}(X) \\bigcap X = \\emptyset$, y hay una raíz única si $\\mathcal{N}(X) \\subseteq X$. También hay una extensión a intervalos en los que da derivada $F'(X)$ contiene el 0, en este caso el operador de Newton retorna la unión de dos intervalos."
   ]
  },
  {
   "cell_type": "markdown",
   "metadata": {
    "slideshow": {
     "slide_type": "fragment"
    }
   },
   "source": [
    "Iterando el operador de Newton en el conjunto resultante nos da un algoritmo riguroso que *garantiza encontrar todas las raíces* de una función real en un intervalo dado; en realidad, lo hace si la raíz es única, pero no puede hacerlo si tenemos una raíz múltiple."
   ]
  },
  {
   "cell_type": "markdown",
   "metadata": {
    "slideshow": {
     "slide_type": "slide"
    }
   },
   "source": [
    "## Uso del método de Newton para intervalos.  Con algunos ejemplos simples.\n",
    "\n",
    "El método de newton para intervalos está implementado en la librería para funciones reales de una variable en la función `newton`. Por ejemplo, podemos calcular rigurosamente las raíces cuadradas de 2:"
   ]
  },
  {
   "cell_type": "code",
   "execution_count": 1,
   "metadata": {
    "collapsed": false,
    "slideshow": {
     "slide_type": "fragment"
    }
   },
   "outputs": [],
   "source": [
    "using ValidatedNumerics"
   ]
  },
  {
   "cell_type": "code",
   "execution_count": 2,
   "metadata": {
    "collapsed": false,
    "slideshow": {
     "slide_type": "fragment"
    }
   },
   "outputs": [
    {
     "data": {
      "text/plain": [
       "f (generic function with 1 method)"
      ]
     },
     "execution_count": 2,
     "metadata": {},
     "output_type": "execute_result"
    }
   ],
   "source": [
    "f(x) = x^2 - 2"
   ]
  },
  {
   "cell_type": "code",
   "execution_count": 3,
   "metadata": {
    "collapsed": false,
    "slideshow": {
     "slide_type": "fragment"
    }
   },
   "outputs": [
    {
     "data": {
      "text/plain": [
       "2-element Array{ValidatedNumerics.Root{Float64},1}:\n",
       " Root([-1.4142135623730951, -1.414213562373095], :unique)\n",
       " Root([1.414213562373095, 1.4142135623730951], :unique)  "
      ]
     },
     "execution_count": 3,
     "metadata": {},
     "output_type": "execute_result"
    }
   ],
   "source": [
    "newton(f, @interval(-5, 5))"
   ]
  },
  {
   "cell_type": "markdown",
   "metadata": {
    "slideshow": {
     "slide_type": "subslide"
    }
   },
   "source": [
    "A la función `newton` se le pasa la función y el intervalo en que buscará las raíces; retorna un arreglo de objetos `Root`, que contienen el intervalo donde la raíz fue encontrada, junto con un símbolo `:unique` si está garantizado que la raíz es única en ese intervalo, o `:unknown` si el método no puede garantizarlo."
   ]
  },
  {
   "cell_type": "markdown",
   "metadata": {
    "slideshow": {
     "slide_type": "subslide"
    }
   },
   "source": [
    "La función `newton` en algunos casos puede devolver un resultado en que algunas raíces tengan el símbolo `:unique` y otras `:unknown`. Un ejemplo interesante de esto se puede ver con los polimonios de Wilkison, que recordamos que tienen la siguiente forma \n",
    "\n",
    "$$\n",
    "W_n = (x-1)\\cdot(x-2)\\cdots(x-n).\n",
    "$$\n",
    "\n",
    "Usaremos el paquete `Polynomials` para encontrar los coeficientes:"
   ]
  },
  {
   "cell_type": "code",
   "execution_count": 4,
   "metadata": {
    "collapsed": false,
    "slideshow": {
     "slide_type": "subslide"
    }
   },
   "outputs": [],
   "source": [
    "using Polynomials"
   ]
  },
  {
   "cell_type": "code",
   "execution_count": 5,
   "metadata": {
    "collapsed": false,
    "slideshow": {
     "slide_type": "fragment"
    }
   },
   "outputs": [],
   "source": [
    "function wilkinson_coefficients(n)\n",
    "    p = poly(collect(1:n))\n",
    "    p.a\n",
    "end\n",
    "\n",
    "function generate_wilkinson_horner(n)\n",
    "    coeffs = wilkinson_coefficients(n)\n",
    "\n",
    "    expr = :($(coeffs[end]))  # comenzar con la potencia más alta\n",
    "\n",
    "    for i in length(coeffs)-1:-1:1\n",
    "        expr = :($expr*x + $(coeffs[i]))\n",
    "    end\n",
    "\n",
    "    expr\n",
    "end\n",
    "\n",
    "function subscriptify(n::Int)\n",
    "    subscript_digits = [c for c in \"₀₁₂₃₄₅₆₇₈₉\"]\n",
    "    dig = reverse(digits(n))\n",
    "    join([subscript_digits[i+1] for i in dig])\n",
    "end\n",
    "\n",
    "for n in 1:15\n",
    "    fn_name = symbol(string(\"W\", subscriptify(n)))\n",
    "    expr = generate_wilkinson_horner(n)\n",
    "\n",
    "    @eval $(fn_name)(x) = $(expr)\n",
    "end"
   ]
  },
  {
   "cell_type": "markdown",
   "metadata": {
    "slideshow": {
     "slide_type": "subslide"
    }
   },
   "source": [
    "Por ejemplo, $W_2 = 2 - 3x + x^2$,"
   ]
  },
  {
   "cell_type": "code",
   "execution_count": 6,
   "metadata": {
    "collapsed": false,
    "slideshow": {
     "slide_type": "fragment"
    }
   },
   "outputs": [
    {
     "data": {
      "text/plain": [
       "3-element Array{Int64,1}:\n",
       "  2\n",
       " -3\n",
       "  1"
      ]
     },
     "execution_count": 6,
     "metadata": {},
     "output_type": "execute_result"
    }
   ],
   "source": [
    "wilkinson_coefficients(2)"
   ]
  },
  {
   "cell_type": "code",
   "execution_count": 7,
   "metadata": {
    "collapsed": false,
    "slideshow": {
     "slide_type": "fragment"
    }
   },
   "outputs": [
    {
     "data": {
      "text/plain": [
       ":((1x + -3) * x + 2)"
      ]
     },
     "execution_count": 7,
     "metadata": {},
     "output_type": "execute_result"
    }
   ],
   "source": [
    "generate_wilkinson_horner(2)"
   ]
  },
  {
   "cell_type": "markdown",
   "metadata": {
    "slideshow": {
     "slide_type": "slide"
    }
   },
   "source": [
    "Veamos entonces un ejemplo intersante de lo que hemos comentado:"
   ]
  },
  {
   "cell_type": "code",
   "execution_count": 8,
   "metadata": {
    "collapsed": false,
    "slideshow": {
     "slide_type": "fragment"
    }
   },
   "outputs": [
    {
     "data": {
      "text/plain": [
       "13-element Array{Int64,1}:\n",
       "   479001600\n",
       " -1486442880\n",
       "  1931559552\n",
       " -1414014888\n",
       "   657206836\n",
       "  -206070150\n",
       "    44990231\n",
       "    -6926634\n",
       "      749463\n",
       "      -55770\n",
       "        2717\n",
       "         -78\n",
       "           1"
      ]
     },
     "execution_count": 8,
     "metadata": {},
     "output_type": "execute_result"
    }
   ],
   "source": [
    "wilkinson_coefficients(12)"
   ]
  },
  {
   "cell_type": "code",
   "execution_count": 9,
   "metadata": {
    "collapsed": false,
    "slideshow": {
     "slide_type": "fragment"
    }
   },
   "outputs": [
    {
     "data": {
      "text/plain": [
       ":((((((((((((1x + -78) * x + 2717) * x + -55770) * x + 749463) * x + -6926634) * x + 44990231) * x + -206070150) * x + 657206836) * x + -1414014888) * x + 1931559552) * x + -1486442880) * x + 479001600)"
      ]
     },
     "execution_count": 9,
     "metadata": {},
     "output_type": "execute_result"
    }
   ],
   "source": [
    "generate_wilkinson_horner(12)"
   ]
  },
  {
   "cell_type": "code",
   "execution_count": 10,
   "metadata": {
    "collapsed": false,
    "slideshow": {
     "slide_type": "slide"
    }
   },
   "outputs": [
    {
     "data": {
      "text/plain": [
       "74-element Array{ValidatedNumerics.Root{Float64},1}:\n",
       " Root([0.9999999999999954, 1.0000000000000038], :unique)\n",
       " Root([1.9999999999992883, 2.0000000000005884], :unique)\n",
       " Root([2.999999999987414, 3.0000000000143165], :unique) \n",
       " Root([3.999999999887985, 4.000000000191865], :unique)  \n",
       " Root([4.999999999256366, 5.00000000087476], :unique)   \n",
       " Root([5.9999999957612244, 6.000000002800165], :unique) \n",
       " Root([6.99999987317772, 7.000000115038016], :unknown)  \n",
       " Root([6.99999987317772, 7.000000115038016], :unknown)  \n",
       " Root([6.99999987317772, 7.000000115038016], :unknown)  \n",
       " Root([6.99999987317772, 7.000000115038016], :unknown)  \n",
       " Root([6.99999987317772, 7.000000115038016], :unknown)  \n",
       " Root([6.99999987317772, 7.000000115038016], :unknown)  \n",
       " Root([6.99999987317772, 7.000000115038016], :unknown)  \n",
       " ⋮                                                      \n",
       " Root([8.99999986492101, 9.000000111908093], :unknown)  \n",
       " Root([8.99999986492101, 9.000000111908093], :unknown)  \n",
       " Root([8.99999986492101, 9.000000111908093], :unknown)  \n",
       " Root([8.99999986492101, 9.000000111908093], :unknown)  \n",
       " Root([8.99999986492101, 9.000000111908093], :unknown)  \n",
       " Root([8.99999986492101, 9.000000111908093], :unknown)  \n",
       " Root([8.99999986492101, 9.000000111908093], :unknown)  \n",
       " Root([8.99999986492101, 9.000000111908093], :unknown)  \n",
       " Root([9.999999969872512, 9.999999977404384], :unknown) \n",
       " Root([9.999999977404386, 9.999999984936256], :unknown) \n",
       " Root([9.999999984936258, 9.99999999246813], :unknown)  \n",
       " Root([9.999999992468132, 10.0], :unknown)              "
      ]
     },
     "execution_count": 10,
     "metadata": {},
     "output_type": "execute_result"
    }
   ],
   "source": [
    "roots = newton(W₁₂, @interval(-10, 10))"
   ]
  },
  {
   "cell_type": "markdown",
   "metadata": {
    "slideshow": {
     "slide_type": "slide"
    }
   },
   "source": [
    "Vemos que en algunos casos la función `newton` como habíamos dicho no nos dice si la raíz es única en algunos casos, y a veces repite el mismo valor de intervalo para el cual no encontró la unicidad. En algunos casos se le puede dar la vuelta a este problema aumentado la precisión de los intervalos, y utilizando el vector de raíces conocidas, para refinarlas con más precisión, y mejorando el performance del paquete (velocidad): "
   ]
  },
  {
   "cell_type": "code",
   "execution_count": 11,
   "metadata": {
    "collapsed": false,
    "slideshow": {
     "slide_type": "slide"
    }
   },
   "outputs": [
    {
     "data": {
      "text/plain": [
       "72-element Array{ValidatedNumerics.Root{BigFloat},1}:\n",
       " Root([9.999999999999999999999999999999999999999999999999999999999999999999999999997323e-01, 1.000000000000000000000000000000000000000000000000000000000000000000000000000363]₂₅₆, :unique) \n",
       " Root([1.999999999999999999999999999999999999999999999999999999999999999999999999960412, 2.000000000000000000000000000000000000000000000000000000000000000000000000044114]₂₅₆, :unique)     \n",
       " Root([2.999999999999999999999999999999999999999999999999999999999999999999999999192587, 3.000000000000000000000000000000000000000000000000000000000000000000000000885587]₂₅₆, :unique)     \n",
       " Root([3.99999999999999999999999999999999999999999999999999999999999999999999999429018, 4.000000000000000000000000000000000000000000000000000000000000000000000011805021]₂₅₆, :unique)      \n",
       " Root([4.999999999999999999999999999999999999999999999999999999999999999999999929471175, 5.000000000000000000000000000000000000000000000000000000000000000000000068267462]₂₅₆, :unique)     \n",
       " Root([5.999999999999999999999999999999999999999999999999999999999999999999999680274877, 6.000000000000000000000000000000000000000000000000000000000000000000000292090006]₂₅₆, :unique)     \n",
       " Root([6.999999999999999999999999999999999999999999999999999999999999999999998926751553, 7.000000000000000000000000000000000000000000000000000000000000000000000942252901]₂₅₆, :unique)     \n",
       " Root([6.999999999999999999999999999999999999999999999999999999999999999999998926751553, 7.000000000000000000000000000000000000000000000000000000000000000000000942252901]₂₅₆, :unique)     \n",
       " Root([6.999999999999999999999999999999999999999999999999999999999999999999998926751553, 7.000000000000000000000000000000000000000000000000000000000000000000000942252901]₂₅₆, :unique)     \n",
       " Root([6.999999999999999999999999999999999999999999999999999999999999999999998926751553, 7.000000000000000000000000000000000000000000000000000000000000000000000942252901]₂₅₆, :unique)     \n",
       " Root([6.999999999999999999999999999999999999999999999999999999999999999999998926751553, 7.000000000000000000000000000000000000000000000000000000000000000000000942252901]₂₅₆, :unique)     \n",
       " Root([6.999999999999999999999999999999999999999999999999999999999999999999998926751553, 7.000000000000000000000000000000000000000000000000000000000000000000000942252901]₂₅₆, :unique)     \n",
       " Root([6.999999999999999999999999999999999999999999999999999999999999999999998926751553, 7.000000000000000000000000000000000000000000000000000000000000000000000942252901]₂₅₆, :unique)     \n",
       " ⋮                                                                                                                                                                                          \n",
       " Root([8.999999999999999999999999999999999999999999999999999999999999999999997990083765, 9.000000000000000000000000000000000000000000000000000000000000000000001574114857]₂₅₆, :unique)     \n",
       " Root([8.999999999999999999999999999999999999999999999999999999999999999999997990083765, 9.000000000000000000000000000000000000000000000000000000000000000000001574114857]₂₅₆, :unique)     \n",
       " Root([8.999999999999999999999999999999999999999999999999999999999999999999997990083765, 9.000000000000000000000000000000000000000000000000000000000000000000001574114857]₂₅₆, :unique)     \n",
       " Root([8.999999999999999999999999999999999999999999999999999999999999999999997990083765, 9.000000000000000000000000000000000000000000000000000000000000000000001574114857]₂₅₆, :unique)     \n",
       " Root([8.999999999999999999999999999999999999999999999999999999999999999999997990083765, 9.000000000000000000000000000000000000000000000000000000000000000000001574114857]₂₅₆, :unique)     \n",
       " Root([8.999999999999999999999999999999999999999999999999999999999999999999997990083765, 9.000000000000000000000000000000000000000000000000000000000000000000001574114857]₂₅₆, :unique)     \n",
       " Root([8.999999999999999999999999999999999999999999999999999999999999999999997990083765, 9.000000000000000000000000000000000000000000000000000000000000000000001574114857]₂₅₆, :unique)     \n",
       " Root([8.999999999999999999999999999999999999999999999999999999999999999999997990083765, 9.000000000000000000000000000000000000000000000000000000000000000000001574114857]₂₅₆, :unique)     \n",
       " Root([8.999999999999999999999999999999999999999999999999999999999999999999997990083765, 9.000000000000000000000000000000000000000000000000000000000000000000001574114857]₂₅₆, :unique)     \n",
       " Root([8.999999999999999999999999999999999999999999999999999999999999999999997990083765, 9.000000000000000000000000000000000000000000000000000000000000000000001574114857]₂₅₆, :unique)     \n",
       " Root([9.999999999999999985970801744141386846985442016233491813181899487972259521484513, 9.999999999999999992985400872070693423492721008116745906590949743986129760742188]₂₅₆, :unknown)    \n",
       " Root([9.999999999999999992985400872070693423492721008116745906590949743986129760742326, 1.000000000000000000000000000000000000000000000000000000000000000000000000000000e+01]₂₅₆, :unknown)"
      ]
     },
     "execution_count": 11,
     "metadata": {},
     "output_type": "execute_result"
    }
   ],
   "source": [
    "set_interval_precision(256)\n",
    "roots2 = newton(W₁₂, roots) #ver la defición de roots2"
   ]
  }
 ],
 "metadata": {
  "celltoolbar": "Slideshow",
  "kernelspec": {
   "display_name": "Julia 0.5.0-dev",
   "language": "julia",
   "name": "julia-0.5"
  },
  "language_info": {
   "file_extension": ".jl",
   "mimetype": "application/julia",
   "name": "julia",
   "version": "0.5.0"
  }
 },
 "nbformat": 4,
 "nbformat_minor": 0
}
